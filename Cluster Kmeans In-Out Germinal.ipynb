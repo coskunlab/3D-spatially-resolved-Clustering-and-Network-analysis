{
 "cells": [
  {
   "cell_type": "code",
   "execution_count": 1,
   "metadata": {},
   "outputs": [],
   "source": [
    "import glob\n",
    "import tifffile\n",
    "import numpy as np\n",
    "import os\n",
    "import matplotlib\n",
    "import matplotlib.pyplot as plt\n",
    "from PIL import Image\n",
    "from sklearn.cluster import KMeans\n",
    "import seaborn as sns; sns.set()\n",
    "from mpl_toolkits.mplot3d import axes3d, Axes3D\n",
    "import pandas as pd\n",
    "from mpl_toolkits.mplot3d import Axes3D\n",
    "from matplotlib.patches import FancyArrowPatch\n",
    "from mpl_toolkits.mplot3d import proj3d\n",
    "import matplotlib.pyplot as plt\n",
    "from sklearn.decomposition import PCA\n",
    "from numpy import *\n",
    "#from sklearn.cluster import OPTICS, cluster_optics_dbscan \n",
    "from sklearn.preprocessing import normalize, StandardScaler \n",
    "from os import listdir\n",
    "from os.path import isfile, join\n",
    "from sklearn.manifold import TSNE\n",
    "\n",
    "import re\n",
    "%matplotlib notebook"
   ]
  },
  {
   "cell_type": "markdown",
   "metadata": {},
   "source": [
    "# Load Data/Labels"
   ]
  },
  {
   "cell_type": "code",
   "execution_count": 2,
   "metadata": {},
   "outputs": [],
   "source": [
    "python_data_path= r\"Y:\\coskun-lab\\Shambavi\\Paper\\Data\\Main Data\\Python Data\"\n",
    "results_store_path = r\"Y:\\coskun-lab\\Shambavi\\Paper\\Results\""
   ]
  },
  {
   "cell_type": "code",
   "execution_count": 3,
   "metadata": {},
   "outputs": [],
   "source": [
    "python_data_path= r\"Y:\\coskun-lab\\Shambavi\\Paper\\Data\\Main Data\\Python Data\"\n",
    "os.chdir(python_data_path)"
   ]
  },
  {
   "cell_type": "code",
   "execution_count": 1,
   "metadata": {},
   "outputs": [],
   "source": [
    "pv = np.load('pixel_in_out_zero.npy',allow_pickle=True)\n",
    "px = np.load('pixel_in_out_zero_x.npy',allow_pickle=True)\n",
    "py = np.load('pixel_in_out_zero_y.npy',allow_pickle=True)\n",
    "pz = np.load('pixel_in_out_zero_z.npy',allow_pickle=True)"
   ]
  },
  {
   "cell_type": "code",
   "execution_count": null,
   "metadata": {},
   "outputs": [],
   "source": [
    "pv_count = np.load('pixel_in_out_nonzero.npy',allow_pickle=True)\n",
    "px_count = np.load('pixel_in_out_nonzero_x.npy',allow_pickle=True)\n",
    "py_count = np.load('pixel_in_out_nonzero_y.npy',allow_pickle=True)\n",
    "pz_count = np.load('pixel_in_out_nonzero_z.npy',allow_pickle=True)"
   ]
  },
  {
   "cell_type": "code",
   "execution_count": null,
   "metadata": {},
   "outputs": [],
   "source": [
    "\n",
    "labels = np.load('in_out_germinal_labels.npy',allow_pickle=True)"
   ]
  },
  {
   "cell_type": "code",
   "execution_count": null,
   "metadata": {},
   "outputs": [],
   "source": [
    "for i,type in enumerate(labels):\n",
    "    print(i,type)"
   ]
  },
  {
   "cell_type": "markdown",
   "metadata": {},
   "source": [
    "# Select Compounds"
   ]
  },
  {
   "cell_type": "code",
   "execution_count": null,
   "metadata": {},
   "outputs": [],
   "source": [
    "#print(\"Zeros in layer {}: {}\".format(k, zeros/(w*h)))\n",
    "c1 = 28 #C3N\n",
    "c2 = 77 #CsWO\n",
    "c3 = 90 #121.87\n",
    "c4 = 53 #144.83\n",
    "X = pd.DataFrame({'C1': list(pv[c1]), 'C2': list(pv[c2]),'C3': list(pv[c3]),'C4' : list(pv[c4])})#,'Column4': x_count, 'Column5': y_count,'Column6': z_count})"
   ]
  },
  {
   "cell_type": "code",
   "execution_count": null,
   "metadata": {},
   "outputs": [],
   "source": [
    "# #print(\"Zeros in layer {}: {}\".format(k, zeros/(w*h)))\n",
    "# c1 = 26 #Cl-\n",
    "# c2 = 41 #42\n",
    "# c3 = 93 #CHSNO\n",
    "# c4 = 75 #SO3\n",
    "# X = pd.DataFrame({'C1': list(pv[c1]), 'C2': list(pv[c2]),'C3': list(pv[c3]),'C4' : list(pv[c4])})#,'Column4': x_count, 'Column5': y_count,'Column6': z_count})"
   ]
  },
  {
   "cell_type": "markdown",
   "metadata": {},
   "source": [
    "# K-means"
   ]
  },
  {
   "cell_type": "code",
   "execution_count": null,
   "metadata": {},
   "outputs": [],
   "source": [
    "scaler = StandardScaler() \n",
    "X_scaled = scaler.fit_transform(X) \n",
    "X_normalized = normalize(X_scaled) \n",
    "X_normalized = pd.DataFrame(X_normalized) \n",
    "kmeans = KMeans(n_clusters=6, random_state=111)\n",
    "kmeans.fit(X_normalized)\n",
    "kmeans.labels_\n",
    "kmeans_list = list(kmeans.labels_)\n",
    "zeros_indices = [i for i, x in enumerate(kmeans_list) if x == 0]    \n",
    "one_indices = [i for i, x in enumerate(kmeans_list) if x == 1]\n",
    "two_indices = [i for i, x in enumerate(kmeans_list) if x == 2]\n",
    "three_indices = [i for i, x in enumerate(kmeans_list) if x == 3]\n",
    "four_indices = [i for i, x in enumerate(kmeans_list) if x == 4]\n",
    "five_indices = [i for i, x in enumerate(kmeans_list) if x == 5]"
   ]
  },
  {
   "cell_type": "code",
   "execution_count": null,
   "metadata": {},
   "outputs": [],
   "source": [
    "c1_array = np.c_[px_count[c1],py_count[c1],pz_count[c1]]\n",
    "c2_array = np.c_[px_count[c2],py_count[c2],pz_count[c2]]\n",
    "c3_array = np.c_[px_count[c3],py_count[c3],pz_count[c3]]\n",
    "c4_array = np.c_[px_count[c4],py_count[c4],pz_count[c4]]"
   ]
  },
  {
   "cell_type": "code",
   "execution_count": null,
   "metadata": {},
   "outputs": [],
   "source": [
    "def image_stack(onlyfiles,pv):\n",
    "    final= []\n",
    "    compounds = []\n",
    "    for i in range(len(onlyfiles)):\n",
    "        final = []\n",
    "        y = np.split(pv[i,:],len(pv[i,:])/(256*256))\n",
    "        for j in range(int(len(pv[i,:])/(256*256))):\n",
    "            final.append(y[j].reshape(256,256))\n",
    "        compounds.append(final)\n",
    "    return compounds"
   ]
  },
  {
   "cell_type": "code",
   "execution_count": null,
   "metadata": {},
   "outputs": [],
   "source": [
    "os.chdir(results_store_path)"
   ]
  },
  {
   "cell_type": "markdown",
   "metadata": {},
   "source": [
    "# 3D-Graphs of Compounds"
   ]
  },
  {
   "cell_type": "code",
   "execution_count": null,
   "metadata": {},
   "outputs": [],
   "source": [
    "fig = plt.figure()\n",
    "ax = Axes3D(fig) \n",
    "ax.scatter3D(px_count[c1],py_count[c1],pz_count[c1], c = 'red', s = 0.001, alpha = 0.1)\n",
    "\n",
    "\n",
    "# First remove fill\n",
    "ax.xaxis.pane.fill = False\n",
    "ax.yaxis.pane.fill = False\n",
    "ax.zaxis.pane.fill = False\n",
    "\n",
    "# # Now set color to white (or whatever is \"invisible\")\n",
    "ax.grid(False)\n",
    "ax.xaxis.pane.set_edgecolor('w')\n",
    "ax.yaxis.pane.set_edgecolor('w')\n",
    "ax.zaxis.pane.set_edgecolor('w')\n",
    "ax.w_xaxis.set_pane_color((1.0, 1.0, 1.0, 1.0))\n",
    "plt.gca().patch.set_facecolor('white')\n",
    "# # Bonus: To get rid of the grid as well:\n",
    "\n",
    "# fig.colorbar(img)\n",
    "frame1 = plt.gca()\n",
    "frame1.axes.get_xaxis().set_ticks([])\n",
    "frame1.axes.get_yaxis().set_ticks([])\n",
    "frame1.axes.get_zaxis().set_ticks([])\n",
    "# ax.set_ylim(ax.get_ylim()[::-1])\n",
    "# ax.set_xlim(ax.get_xlim()[::-1])\n",
    "\n",
    "plt.savefig(\"C1_in_out.png\", bbox_inches='tight')\n",
    "plt.show()"
   ]
  },
  {
   "cell_type": "code",
   "execution_count": null,
   "metadata": {},
   "outputs": [],
   "source": [
    "fig = plt.figure()\n",
    "ax = Axes3D(fig) \n",
    "ax.scatter3D(px_count[c2],py_count[c2],pz_count[c2], c = 'blue', s = 1, alpha = 0.1)\n",
    "\n",
    "\n",
    "# First remove fill\n",
    "ax.xaxis.pane.fill = False\n",
    "ax.yaxis.pane.fill = False\n",
    "ax.zaxis.pane.fill = False\n",
    "\n",
    "# # Now set color to white (or whatever is \"invisible\")\n",
    "ax.grid(False)\n",
    "ax.xaxis.pane.set_edgecolor('w')\n",
    "ax.yaxis.pane.set_edgecolor('w')\n",
    "ax.zaxis.pane.set_edgecolor('w')\n",
    "ax.w_xaxis.set_pane_color((1.0, 1.0, 1.0, 1.0))\n",
    "plt.gca().patch.set_facecolor('white')\n",
    "# # Bonus: To get rid of the grid as well:\n",
    "\n",
    "# fig.colorbar(img)\n",
    "frame1 = plt.gca()\n",
    "frame1.axes.get_xaxis().set_ticks([])\n",
    "frame1.axes.get_yaxis().set_ticks([])\n",
    "frame1.axes.get_zaxis().set_ticks([])\n",
    "# ax.set_ylim(ax.get_ylim()[::-1])\n",
    "# ax.set_xlim(ax.get_xlim()[::-1])\n",
    "\n",
    "plt.savefig(\"C2_in_out.png\", bbox_inches='tight')\n",
    "plt.show()"
   ]
  },
  {
   "cell_type": "code",
   "execution_count": null,
   "metadata": {},
   "outputs": [],
   "source": [
    "fig = plt.figure()\n",
    "ax = Axes3D(fig) \n",
    "ax.scatter3D(px_count[c3],py_count[c3],pz_count[c3], c = 'green', s = 0.001, alpha = 0.1)\n",
    "\n",
    "\n",
    "# First remove fill\n",
    "ax.xaxis.pane.fill = False\n",
    "ax.yaxis.pane.fill = False\n",
    "ax.zaxis.pane.fill = False\n",
    "\n",
    "# # Now set color to white (or whatever is \"invisible\")\n",
    "ax.grid(False)\n",
    "ax.xaxis.pane.set_edgecolor('w')\n",
    "ax.yaxis.pane.set_edgecolor('w')\n",
    "ax.zaxis.pane.set_edgecolor('w')\n",
    "ax.w_xaxis.set_pane_color((1.0, 1.0, 1.0, 1.0))\n",
    "plt.gca().patch.set_facecolor('white')\n",
    "# # Bonus: To get rid of the grid as well:\n",
    "\n",
    "# fig.colorbar(img)\n",
    "frame1 = plt.gca()\n",
    "frame1.axes.get_xaxis().set_ticks([])\n",
    "frame1.axes.get_yaxis().set_ticks([])\n",
    "frame1.axes.get_zaxis().set_ticks([])\n",
    "# ax.set_ylim(ax.get_ylim()[::-1])\n",
    "# ax.set_xlim(ax.get_xlim()[::-1])\n",
    "\n",
    "plt.savefig(\"C3_in_out.png\", bbox_inches='tight')\n",
    "plt.show()"
   ]
  },
  {
   "cell_type": "code",
   "execution_count": null,
   "metadata": {},
   "outputs": [],
   "source": [
    "fig = plt.figure()\n",
    "ax = Axes3D(fig) \n",
    "ax.scatter3D(px_count[c4],py_count[c4],pz_count[c4], c = 'orange', s = 0.001, alpha = 0.1)\n",
    "\n",
    "\n",
    "# First remove fill\n",
    "ax.xaxis.pane.fill = False\n",
    "ax.yaxis.pane.fill = False\n",
    "ax.zaxis.pane.fill = False\n",
    "\n",
    "# # Now set color to white (or whatever is \"invisible\")\n",
    "ax.grid(False)\n",
    "ax.xaxis.pane.set_edgecolor('w')\n",
    "ax.yaxis.pane.set_edgecolor('w')\n",
    "ax.zaxis.pane.set_edgecolor('w')\n",
    "ax.w_xaxis.set_pane_color((1.0, 1.0, 1.0, 1.0))\n",
    "plt.gca().patch.set_facecolor('white')\n",
    "# # Bonus: To get rid of the grid as well:\n",
    "\n",
    "# fig.colorbar(img)\n",
    "frame1 = plt.gca()\n",
    "frame1.axes.get_xaxis().set_ticks([])\n",
    "frame1.axes.get_yaxis().set_ticks([])\n",
    "frame1.axes.get_zaxis().set_ticks([])\n",
    "# ax.set_ylim(ax.get_ylim()[::-1])\n",
    "# ax.set_xlim(ax.get_xlim()[::-1])\n",
    "\n",
    "plt.savefig(\"C4_in_out.png\", bbox_inches='tight')\n",
    "plt.show()"
   ]
  },
  {
   "cell_type": "code",
   "execution_count": null,
   "metadata": {},
   "outputs": [],
   "source": [
    "def array_def(x_list,y_list,z_list,pixel,zeros_indices):\n",
    "    T,W,V= [x_list[i] for i in zeros_indices],[y_list[i] for i in zeros_indices],[z_list[i] for i in zeros_indices]\n",
    "    zero_array = np.c_[T,W,V]\n",
    "    pixel = [pixel[i] for i in zeros_indices]\n",
    "    zero_array_class = np.c_[zero_array,np.ones(len(zero_array))]\n",
    "    return zero_array,zero_array_class,pixel"
   ]
  },
  {
   "cell_type": "code",
   "execution_count": null,
   "metadata": {},
   "outputs": [],
   "source": [
    "zero_array, zero_array_class,pixel_zero_c1 = array_def(px[c1],py[c1],pz[c1],pv[c1],zeros_indices)\n",
    "one_array, one_array_class,pixel_one_c1 = array_def(px[c1],py[c1],pz[c1],pv[c1],one_indices)\n",
    "two_array, two_array_class,pixel_two_c1 = array_def(px[c1],py[c1],pz[c1],pv[c1],two_indices)\n",
    "three_array, three_array_class,pixel_three_c1 = array_def(px[c1],py[c1],pz[c1],pv[c1],three_indices)\n",
    "four_array, four_array_class,pixel_four_c1 = array_def(px[c1],py[c1],pz[c1],pv[c1],four_indices)\n",
    "five_array, five_array_class,pixel_five_c1 = array_def(px[c1],py[c1],pz[c1],pv[c1],five_indices)\n"
   ]
  },
  {
   "cell_type": "code",
   "execution_count": null,
   "metadata": {},
   "outputs": [],
   "source": [
    "zero_array, zero_array_class,pixel_zero_c2 = array_def(px[c2],py[c2],pz[c2],pv[c2],zeros_indices)\n",
    "one_array, one_array_class,pixel_one_c2 = array_def(px[c2],py[c2],pz[c2],pv[c2],one_indices)\n",
    "two_array, two_array_class,pixel_two_c2 = array_def(px[c2],py[c2],pz[c2],pv[c2],two_indices)\n",
    "three_array, three_array_class,pixel_three_c2 = array_def(px[c2],py[c2],pz[c2],pv[c2],three_indices)\n",
    "four_array, four_array_class,pixel_four_c2 = array_def(px[c2],py[c2],pz[c2],pv[c2],four_indices)\n",
    "five_array, five_array_class,pixel_five_c2 = array_def(px[c2],py[c2],pz[c2],pv[c2],five_indices)"
   ]
  },
  {
   "cell_type": "code",
   "execution_count": null,
   "metadata": {},
   "outputs": [],
   "source": [
    "zero_array, zero_array_class,pixel_zero_c3 = array_def(px[c3],py[c3],pz[c3],pv[c3],zeros_indices)\n",
    "one_array, one_array_class,pixel_one_c3 = array_def(px[c3],py[c3],pz[c3],pv[c3],one_indices)\n",
    "two_array, two_array_class,pixel_two_c3 = array_def(px[c3],py[c3],pz[c3],pv[c3],two_indices)\n",
    "three_array, three_array_class,pixel_three_c3 = array_def(px[c3],py[c3],pz[c1],pv[c3],three_indices)\n",
    "four_array, four_array_class,pixel_four_c3 = array_def(px[c3],py[c3],pz[c1],pv[c3],four_indices)\n",
    "five_array, five_array_class,pixel_five_c3 = array_def(px[c3],py[c3],pz[c1],pv[c3],five_indices)"
   ]
  },
  {
   "cell_type": "code",
   "execution_count": null,
   "metadata": {},
   "outputs": [],
   "source": [
    "zero_array, zero_array_class,pixel_zero_c4 = array_def(px[c4],py[c4],pz[c4],pv[c4],zeros_indices)\n",
    "one_array, one_array_class,pixel_one_c4 = array_def(px[c4],py[c4],pz[c4],pv[c4],one_indices)\n",
    "two_array, two_array_class,pixel_two_c4 = array_def(px[c4],py[c4],pz[c4],pv[c4],two_indices)\n",
    "three_array, three_array_class,pixel_three_c4 = array_def(px[c4],py[c4],pz[c4],pv[c4],three_indices)\n",
    "four_array, four_array_class,pixel_four_c4 = array_def(px[c4],py[c4],pz[c4],pv[c4],four_indices)\n",
    "five_array, five_array_class,pixel_five_c4 = array_def(px[c4],py[c4],pz[c4],pv[c4],five_indices)"
   ]
  },
  {
   "cell_type": "code",
   "execution_count": null,
   "metadata": {},
   "outputs": [],
   "source": [
    "from ordered_set import OrderedSet\n",
    "\n",
    "x_hashable = map(tuple, zero_array)\n",
    "zero_set = OrderedSet(x_hashable)\n",
    "\n",
    "x_hashable = map(tuple, one_array)\n",
    "one_set = OrderedSet(x_hashable)\n",
    "\n",
    "x_hashable = map(tuple, two_array)\n",
    "two_set = OrderedSet(x_hashable)\n",
    "\n",
    "x_hashable = map(tuple, three_array)\n",
    "three_set = OrderedSet(x_hashable)\n",
    "\n",
    "x_hashable = map(tuple, four_array)\n",
    "four_set = OrderedSet(x_hashable)\n",
    "\n",
    "x_hashable = map(tuple, five_array)\n",
    "five_set = OrderedSet(x_hashable)\n",
    "\n",
    "x_hashable = map(tuple, c1_array)\n",
    "c1_set = OrderedSet(x_hashable)\n",
    "\n",
    "x_hashable = map(tuple, c2_array)\n",
    "c2_set = OrderedSet(x_hashable)\n",
    "\n",
    "x_hashable = map(tuple, c3_array)\n",
    "c3_set = OrderedSet(x_hashable)\n",
    "\n",
    "x_hashable = map(tuple, c4_array)\n",
    "c4_set = OrderedSet(x_hashable)"
   ]
  },
  {
   "cell_type": "code",
   "execution_count": null,
   "metadata": {},
   "outputs": [],
   "source": [
    "wow_c1_0 = np.array(list(zero_set.intersection(c1_set)))\n",
    "wow_c1_1 = np.array(list(one_set.intersection(c1_set)))\n",
    "wow_c1_2 = np.array(list(two_set.intersection(c1_set)))\n",
    "wow_c1_3 = np.array(list(three_set.intersection(c1_set)))\n",
    "wow_c1_4 = np.array(list(four_set.intersection(c1_set)))\n",
    "wow_c1_5 = np.array(list(five_set.intersection(c1_set)))\n",
    "\n",
    "wow_c2_0 = np.array(list(zero_set.intersection(c2_set)))\n",
    "wow_c2_1 = np.array(list(one_set.intersection(c2_set)))\n",
    "wow_c2_2 = np.array(list(two_set.intersection(c2_set)))\n",
    "wow_c2_3 = np.array(list(three_set.intersection(c2_set)))\n",
    "wow_c2_4 = np.array(list(four_set.intersection(c2_set)))\n",
    "wow_c2_5 = np.array(list(five_set.intersection(c2_set)))\n",
    "\n",
    "wow_c3_0 = np.array(list(zero_set.intersection(c3_set)))\n",
    "wow_c3_1 = np.array(list(one_set.intersection(c3_set)))\n",
    "wow_c3_2 = np.array(list(two_set.intersection(c3_set)))\n",
    "wow_c3_3 = np.array(list(three_set.intersection(c3_set)))\n",
    "wow_c3_4 = np.array(list(four_set.intersection(c3_set)))\n",
    "wow_c3_5 = np.array(list(five_set.intersection(c3_set)))\n",
    "\n",
    "wow_c4_0 = np.array(list(zero_set.intersection(c4_set)))\n",
    "wow_c4_1 = np.array(list(one_set.intersection(c4_set)))\n",
    "wow_c4_2 = np.array(list(two_set.intersection(c4_set)))\n",
    "wow_c4_3 = np.array(list(three_set.intersection(c4_set)))\n",
    "wow_c4_4 = np.array(list(four_set.intersection(c4_set)))\n",
    "wow_c4_5 = np.array(list(five_set.intersection(c4_set)))"
   ]
  },
  {
   "cell_type": "code",
   "execution_count": null,
   "metadata": {},
   "outputs": [],
   "source": [
    "def intersect_fn(zero_set,iodine_set,iod_value):\n",
    "    final_iodine_zero = np.zeros(len(zero_set))\n",
    "    iod_ordered = zero_set.intersection(iodine_set)\n",
    "    lol = OrderedSet(iod_ordered).intersection(zero_set)\n",
    "    iodine_cluster_zero = []\n",
    "    for i in range(len(lol)):\n",
    "        final_iodine_zero[zero_set.index(lol[i])] = iod_value[iodine_set.index(lol[i])]\n",
    "        iodine_cluster_zero.append(iod_value[iodine_set.index(lol[i])])\n",
    "    return final_iodine_zero, iodine_cluster_zero"
   ]
  },
  {
   "cell_type": "code",
   "execution_count": null,
   "metadata": {},
   "outputs": [],
   "source": [
    "final_c1_zero, c1_cluster_zero = intersect_fn(zero_set,c1_set,pv_count[c1])\n",
    "final_c1_one, c1_cluster_one = intersect_fn(one_set,c1_set,pv_count[c1])\n",
    "final_c1_two, c1_cluster_two = intersect_fn(two_set,c1_set,pv_count[c1])\n",
    "final_c1_three, c1_cluster_three = intersect_fn(three_set,c1_set,pv_count[c1])\n",
    "final_c1_four, c1_cluster_four = intersect_fn(four_set,c1_set,pv_count[c1])\n",
    "final_c1_five, c1_cluster_five = intersect_fn(five_set,c1_set,pv_count[c1])"
   ]
  },
  {
   "cell_type": "code",
   "execution_count": null,
   "metadata": {},
   "outputs": [],
   "source": [
    "final_c2_zero, c2_cluster_zero = intersect_fn(zero_set,c2_set,pv_count[c2])\n",
    "final_c2_one, c2_cluster_one = intersect_fn(one_set,c2_set,pv_count[c2])\n",
    "final_c2_two, c2_cluster_two = intersect_fn(two_set,c2_set,pv_count[c2])\n",
    "final_c2_three, c2_cluster_three = intersect_fn(three_set,c2_set,pv_count[c2])\n",
    "final_c2_four, c2_cluster_four = intersect_fn(four_set,c2_set,pv_count[c2])\n",
    "final_c2_five, c2_cluster_five = intersect_fn(five_set,c2_set,pv_count[c2])"
   ]
  },
  {
   "cell_type": "code",
   "execution_count": null,
   "metadata": {},
   "outputs": [],
   "source": [
    "final_c3_zero, c3_cluster_zero = intersect_fn(zero_set,c3_set,pv_count[c3])\n",
    "final_c3_one, c3_cluster_one = intersect_fn(one_set,c3_set,pv_count[c3])\n",
    "final_c3_two, c3_cluster_two = intersect_fn(two_set,c3_set,pv_count[c3])\n",
    "final_c3_three, c3_cluster_three = intersect_fn(three_set,c3_set,pv_count[c3])\n",
    "final_c3_four, c3_cluster_four = intersect_fn(four_set,c3_set,pv_count[c3])\n",
    "final_c3_five, c3_cluster_five = intersect_fn(five_set,c3_set,pv_count[c3])"
   ]
  },
  {
   "cell_type": "code",
   "execution_count": null,
   "metadata": {},
   "outputs": [],
   "source": [
    "final_c4_zero, c4_cluster_zero = intersect_fn(zero_set,c4_set,pv_count[c4])\n",
    "final_c4_one, c4_cluster_one = intersect_fn(one_set,c4_set,pv_count[c4])\n",
    "final_c4_two, c4_cluster_two = intersect_fn(two_set,c4_set,pv_count[c4])\n",
    "final_c4_three, c4_cluster_three = intersect_fn(three_set,c4_set,pv_count[c4])\n",
    "final_c4_four, c4_cluster_four = intersect_fn(four_set,c4_set,pv_count[c4])\n",
    "final_c4_five, c4_cluster_five = intersect_fn(five_set,c4_set,pv_count[c4])"
   ]
  },
  {
   "cell_type": "code",
   "execution_count": null,
   "metadata": {},
   "outputs": [],
   "source": [
    "final_c4_four, c4_cluster_four = intersect_fn(four_set,c4_set,pv_count[c4])\n",
    "final_c4_five, c4_cluster_five = intersect_fn(five_set,c4_set,pv_count[c4])"
   ]
  },
  {
   "cell_type": "markdown",
   "metadata": {},
   "source": [
    "## Heatmap "
   ]
  },
  {
   "cell_type": "code",
   "execution_count": null,
   "metadata": {},
   "outputs": [],
   "source": [
    "# final = np.zeros([len(pv),256*256,int(len(np.array(pv[1]))/(256*256))])\n",
    "# for i in range(len(pv)):\n",
    "#     y = np.split(np.array(pv[i]),len(np.array(pv[i]))/(256*256))\n",
    "#     for j in range(int(len(np.array(pv[i]))/(256*256))):\n",
    "#         final[i,:,j] = y[j]"
   ]
  },
  {
   "cell_type": "code",
   "execution_count": null,
   "metadata": {},
   "outputs": [],
   "source": [
    "# final_mean = np.mean(final, axis = 2)\n",
    "# final_mean_T = final_mean.transpose()\n",
    "# df = pd.DataFrame(data= final_mean_T,columns = labels)\n",
    "# df_zscore = df.copy()"
   ]
  },
  {
   "cell_type": "code",
   "execution_count": null,
   "metadata": {},
   "outputs": [],
   "source": [
    "# cols = list(df_zscore.columns)\n",
    "# for col in cols:\n",
    "#     #col_zscore = col + '_zscore'\n",
    "#     df_zscore[col] = (df_zscore[col] - df_zscore[col].mean())/df_zscore[col].std(ddof=0)"
   ]
  },
  {
   "cell_type": "code",
   "execution_count": null,
   "metadata": {},
   "outputs": [],
   "source": [
    "# %matplotlib notebook\n",
    "# sns.set(font_scale=0.30)\n",
    "# # fig = plt.figure()\n",
    "# g = sns.clustermap(df_zscore, row_cluster=False)#, xticklabels = labels, yticklabels = labels, square = True )\n",
    "# plt.savefig('clustermap_out_germinal_zscore_column_cluster.png',format='png', dpi=1200)"
   ]
  },
  {
   "cell_type": "code",
   "execution_count": null,
   "metadata": {},
   "outputs": [],
   "source": [
    "# %matplotlib notebook\n",
    "# sns.set(font_scale=0.20)\n",
    "# # fig = plt.figure()\n",
    "# g = sns.heatmap(df_zscore, xticklabels = labels, yticklabels = labels, square = True )\n",
    "# plt.savefig('heatmap_out_germinal_slices_cm1_zscore.png',format='png', dpi=1200)"
   ]
  },
  {
   "cell_type": "code",
   "execution_count": null,
   "metadata": {},
   "outputs": [],
   "source": [
    "# %matplotlib notebook\n",
    "# sns.set(font_scale=0.35)\n",
    "# # fig = plt.figure()\n",
    "# g = sns.clustermap(df.corr(), xticklabels = labels, yticklabels = labels, square = True )\n",
    "# plt.savefig('Clustermap_out_germinal_slices_cm1.png',format='png', dpi=1200)"
   ]
  },
  {
   "cell_type": "code",
   "execution_count": null,
   "metadata": {},
   "outputs": [],
   "source": [
    "# %matplotlib notebook\n",
    "# sns.set(font_scale=0.35)\n",
    "# # fig = plt.figure()\n",
    "# g = sns.clustermap(df.corr(), xticklabels = labels, yticklabels = labels, square = True, cmap = 'brg')\n",
    "# plt.savefig('Clustermap_out_germinal_slices_cm2.png',format='png', dpi=1200)"
   ]
  },
  {
   "cell_type": "code",
   "execution_count": null,
   "metadata": {},
   "outputs": [],
   "source": [
    "# %matplotlib notebook\n",
    "# sns.set(font_scale=0.35)\n",
    "# # fig = plt.figure()\n",
    "# g = sns.clustermap(df.corr(), xticklabels = labels, yticklabels = labels, square = True, cmap = 'ocean' )\n",
    "# plt.savefig('Clustermap_out_germinal_slices_cm3.png',format='png', dpi=1200)"
   ]
  },
  {
   "cell_type": "code",
   "execution_count": null,
   "metadata": {},
   "outputs": [],
   "source": [
    "# %matplotlib notebook\n",
    "# sns.set(font_scale=0.35)\n",
    "# # fig = plt.figure()\n",
    "# g = sns.clustermap(df.corr(), xticklabels = labels, yticklabels = labels, square = True, cmap = 'jet' )\n",
    "# plt.savefig('Clustermap_out_germinal_slices_cm4.png',format='png', dpi=1200)"
   ]
  },
  {
   "cell_type": "code",
   "execution_count": null,
   "metadata": {},
   "outputs": [],
   "source": [
    "heat_map_c1 = [sum(final_c1_zero),sum(final_c1_one),sum(final_c1_two),sum(final_c1_three),sum(final_c1_four),sum(final_c1_five)]\n",
    "heat_map_c2 = [sum(final_c2_zero),sum(final_c2_one),sum(final_c2_two),sum(final_c2_three),sum(final_c2_four),sum(final_c2_five)]\n",
    "heat_map_c3 = [sum(final_c3_zero),sum(final_c3_one),sum(final_c3_two),sum(final_c3_three),sum(final_c3_four),sum(final_c3_five)]\n",
    "heat_map_c4 = [sum(final_c4_zero),sum(final_c4_one),sum(final_c4_two),sum(final_c4_three),sum(final_c4_four),sum(final_c4_five)]\n",
    "\n",
    "X = pd.DataFrame({'c1': heat_map_c1, 'c2': heat_map_c2,'c3': heat_map_c3,'c4' : heat_map_c4})\n",
    "X = np.log(X)\n",
    "\n",
    "biomarkers = [\"c1\",\"c2\",\"c3\",\"c4\"]\n",
    "clusters = [\"first\", \"second\", \"third\",\n",
    "           \"fourth\", \"fifth\", \"sixth\"]\n",
    "\n",
    "# pixel_values = np.c_[heat_map_iod,heat_map_phos,heat_map_rna]\n",
    "# pixel_values.transpose()\n",
    "\n",
    "from numpy import inf\n",
    "\n",
    "# ## this is log transformation \n",
    "heat_map_c1 = np.log(heat_map_c1)\n",
    "heat_map_c1 = np.where(heat_map_c1== -inf , 0, heat_map_c1)\n",
    "\n",
    "heat_map_c2 = np.log(heat_map_c2)\n",
    "heat_map_c2 = np.where(heat_map_c2 == -inf , 0, heat_map_c2)\n",
    "\n",
    "heat_map_c3 = np.log(heat_map_c3)\n",
    "heat_map_c3 = np.where(heat_map_c3 == -inf , 0, heat_map_c3)\n",
    "\n",
    "heat_map_c3 = np.log(heat_map_c4)\n",
    "heat_map_c3 = np.where(heat_map_c4 == -inf , 0, heat_map_c4)\n",
    "\n",
    "X = pd.DataFrame({'c1': heat_map_c1, 'c2': heat_map_c2,'c3': heat_map_c3,'c4' : heat_map_c4})"
   ]
  },
  {
   "cell_type": "code",
   "execution_count": null,
   "metadata": {},
   "outputs": [],
   "source": [
    "import pandas as pd\n",
    "from sklearn import preprocessing\n",
    "\n",
    "x = X.values #returns a numpy array\n",
    "min_max_scaler = preprocessing.MinMaxScaler()\n",
    "x_scaled = min_max_scaler.fit_transform(x)\n",
    "X = pd.DataFrame(x_scaled)\n",
    "X = X.transpose()"
   ]
  },
  {
   "cell_type": "code",
   "execution_count": null,
   "metadata": {},
   "outputs": [],
   "source": [
    "\n",
    "%matplotlib notebook\n",
    "fig = plt.figure()\n",
    "ax = fig.add_subplot(111)\n",
    "X = X\n",
    "columns = [\"first\", \"second\", \"third\",\n",
    "           \"fourth\", \"fifth\", \"sixth\"]\n",
    "index = [\"c1\",\"c2\",\"c3\",\"c4\"]\n",
    "plt.pcolor(X,cmap = 'tab20b')\n",
    "plt.yticks(np.arange(0.5, len(index), 1), index,fontsize = 15)\n",
    "plt.xticks(np.arange(0.5, len(columns), 1), columns,fontsize = 15)\n",
    "plt.colorbar()\n",
    "\n",
    "fig = plt.gcf()\n",
    "cbar_ax = fig.axes[-1]\n",
    "cbar_ax.tick_params(labelsize=15)\n",
    "plt.show()\n",
    "plt.savefig(\"Unlabelled- Heatmap_in_out.png\", bbox_inches='tight')"
   ]
  },
  {
   "cell_type": "code",
   "execution_count": null,
   "metadata": {},
   "outputs": [],
   "source": [
    "import scipy\n",
    "c1_zscore= scipy.stats.zscore(heat_map_c1, axis = 0)\n",
    "c2_zscore= scipy.stats.zscore(heat_map_c2, axis = 0)\n",
    "c3_zscore= scipy.stats.zscore(heat_map_c3, axis = 0)\n",
    "c4_zscore= scipy.stats.zscore(heat_map_c4, axis = 0)\n",
    "X_zscore = pd.DataFrame({'c1': c1_zscore, 'c2':c2_zscore,'c3': c3_zscore,'c4': c4_zscore})\n",
    "name = ['1','2','3','4','5','6']\n",
    "X_zscore['Name'] = name\n",
    "X_zscore = X_zscore.set_index('Name')\n",
    "del X_zscore.index.name\n",
    "\n",
    "cbar_kws = {\"shrink\":1}\n",
    "# Cluster map without standardisation\n",
    "# fig = plt.figure()\n",
    "sns.set(font_scale=0.8)\n",
    "g = sns.clustermap(X_zscore,cmap=\"viridis\")\n",
    "\n",
    "plt.savefig('clustermap_in_out.png',format='png', dpi=1200)\n",
    "#PLease replace colours with 'w'\n",
    "\n",
    "my_colors = ['c', 'b', 'r', 'r', 'g', 'k', 'b']\n",
    "\n",
    "# for ticklabel, tickcolor in zip(g.ax_heatmap.axes.get_yticklabels(), my_colors):\n",
    "#     ticklabel.set_color(tickcolor)\n",
    "\n",
    "# for ticklabel, tickcolor in zip(g.ax_heatmap.axes.get_xticklabels(), my_colors):\n",
    "#     ticklabel.set_color(tickcolor)\n",
    "\n",
    "# hierarchy.set_link_color_palette([mpl.colors.rgb2hex(rgb[:3]) for rgb in cmap])\n",
    "#Cluster map with Standardisation\n",
    "#sns.clustermap(X_zscore,standard_scale = 1,cmap=\"viridis\")"
   ]
  },
  {
   "cell_type": "code",
   "execution_count": null,
   "metadata": {},
   "outputs": [],
   "source": [
    "os.chdir(results_store_path)"
   ]
  },
  {
   "cell_type": "code",
   "execution_count": null,
   "metadata": {},
   "outputs": [],
   "source": [
    "%matplotlib notebook\n",
    "fig = plt.figure()\n",
    "ax = fig.add_subplot(111, projection='3d')\n",
    "\n",
    "array = zero_array\n",
    "img = ax.scatter3D(array[:,0],array[:,1],array[:,2], c = 'blue' , alpha= 0.3 ,s = 0.001 )\n",
    "# First remove fill\n",
    "ax.xaxis.pane.fill = False\n",
    "ax.yaxis.pane.fill = False\n",
    "ax.zaxis.pane.fill = False\n",
    "\n",
    "# # Now set color to white (or whatever is \"invisible\")\n",
    "ax.grid(False)\n",
    "ax.xaxis.pane.set_edgecolor('w')\n",
    "ax.yaxis.pane.set_edgecolor('w')\n",
    "ax.zaxis.pane.set_edgecolor('w')\n",
    "ax.w_xaxis.set_pane_color((1.0, 1.0, 1.0, 1.0))\n",
    "plt.gca().patch.set_facecolor('white')\n",
    "# # Bonus: To get rid of the grid as well:\n",
    "\n",
    "# fig.colorbar(img)\n",
    "frame1 = plt.gca()\n",
    "frame1.axes.get_xaxis().set_ticks([])\n",
    "frame1.axes.get_yaxis().set_ticks([])\n",
    "frame1.axes.get_zaxis().set_ticks([])\n",
    "# ax.set_ylim(ax.get_ylim()[::-1])\n",
    "# ax.set_xlim(ax.get_xlim()[::-1])\n",
    "\n",
    "plt.savefig(\"cluster_0_in_out.png\", bbox_inches='tight')\n",
    "plt.show()"
   ]
  },
  {
   "cell_type": "code",
   "execution_count": null,
   "metadata": {},
   "outputs": [],
   "source": [
    "%matplotlib notebook\n",
    "fig = plt.figure()\n",
    "ax = fig.add_subplot(111, projection='3d')\n",
    "\n",
    "array = one_array\n",
    "img = ax.scatter3D(array[:,0],array[:,1],array[:,2], c = 'green' , alpha= 0.1 ,s = 0.005)\n",
    "\n",
    "# # First remove fill\n",
    "# ax.xaxis.pane.fill = False\n",
    "# ax.yaxis.pane.fill = False\n",
    "# ax.zaxis.pane.fill = False\n",
    "\n",
    "# # Now set color to white (or whatever is \"invisible\")\n",
    "# ax.grid(False)\n",
    "# ax.xaxis.pane.set_edgecolor('w')\n",
    "# ax.yaxis.pane.set_edgecolor('w')\n",
    "# ax.zaxis.pane.set_edgecolor('w')\n",
    "# ax.w_xaxis.set_pane_color((1.0, 1.0, 1.0, 1.0))\n",
    "# plt.gca().patch.set_facecolor('white')\n",
    "# # Bonus: To get rid of the grid as well:\n",
    "\n",
    "\n",
    "# First remove fill\n",
    "ax.xaxis.pane.fill = False\n",
    "ax.yaxis.pane.fill = False\n",
    "ax.zaxis.pane.fill = False\n",
    "\n",
    "# # Now set color to white (or whatever is \"invisible\")\n",
    "ax.grid(False)\n",
    "ax.xaxis.pane.set_edgecolor('w')\n",
    "ax.yaxis.pane.set_edgecolor('w')\n",
    "ax.zaxis.pane.set_edgecolor('w')\n",
    "ax.w_xaxis.set_pane_color((1.0, 1.0, 1.0, 1.0))\n",
    "plt.gca().patch.set_facecolor('white')\n",
    "# # Bonus: To get rid of the grid as well:\n",
    "\n",
    "# fig.colorbar(img)\n",
    "frame1 = plt.gca()\n",
    "frame1.axes.get_xaxis().set_ticks([])\n",
    "frame1.axes.get_yaxis().set_ticks([])\n",
    "frame1.axes.get_zaxis().set_ticks([])\n",
    "# ax.set_ylim(ax.get_ylim()[::-1])\n",
    "# ax.set_xlim(ax.get_xlim()[::-1])\n",
    "\n",
    "plt.savefig(\"cluster_1_in_out.png\", bbox_inches='tight')\n",
    "\n",
    "plt.show()"
   ]
  },
  {
   "cell_type": "code",
   "execution_count": null,
   "metadata": {},
   "outputs": [],
   "source": [
    "%matplotlib notebook\n",
    "fig = plt.figure()\n",
    "ax = fig.add_subplot(111, projection='3d')\n",
    "\n",
    "array = two_array\n",
    "img = ax.scatter3D(array[:,0],array[:,1],array[:,2], c = '#BDB76B' , alpha= 0.1 ,s = 0.0006\n",
    "                  )\n",
    "\n",
    "\n",
    "\n",
    "# First remove fill\n",
    "ax.xaxis.pane.fill = False\n",
    "ax.yaxis.pane.fill = False\n",
    "ax.zaxis.pane.fill = False\n",
    "\n",
    "# # Now set color to white (or whatever is \"invisible\")\n",
    "ax.grid(False)\n",
    "ax.xaxis.pane.set_edgecolor('w')\n",
    "ax.yaxis.pane.set_edgecolor('w')\n",
    "ax.zaxis.pane.set_edgecolor('w')\n",
    "ax.w_xaxis.set_pane_color((1.0, 1.0, 1.0, 1.0))\n",
    "plt.gca().patch.set_facecolor('white')\n",
    "# # Bonus: To get rid of the grid as well:\n",
    "\n",
    "# fig.colorbar(img)\n",
    "frame1 = plt.gca()\n",
    "frame1.axes.get_xaxis().set_ticks([])\n",
    "frame1.axes.get_yaxis().set_ticks([])\n",
    "frame1.axes.get_zaxis().set_ticks([])\n",
    "# ax.set_ylim(ax.get_ylim()[::-1])\n",
    "# ax.set_xlim(ax.get_xlim()[::-1])\n",
    "\n",
    "plt.savefig(\"cluster_2_in_out.png\", bbox_inches='tight')\n",
    "plt.show()"
   ]
  },
  {
   "cell_type": "code",
   "execution_count": null,
   "metadata": {},
   "outputs": [],
   "source": [
    "%matplotlib notebook\n",
    "fig = plt.figure()\n",
    "ax = fig.add_subplot(111, projection='3d')\n",
    "\n",
    "array = three_array\n",
    "img = ax.scatter3D(array[:,0],array[:,1],array[:,2], c = '#006400' , alpha= 0.5 ,s = 0.5)\n",
    "\n",
    "# fig.colorbar(img)\n",
    "\n",
    "# First remove fill\n",
    "ax.xaxis.pane.fill = False\n",
    "ax.yaxis.pane.fill = False\n",
    "ax.zaxis.pane.fill = False\n",
    "\n",
    "# Now set color to white (or whatever is \"invisible\")\n",
    "ax.grid(False)\n",
    "ax.xaxis.pane.set_edgecolor('w')\n",
    "ax.yaxis.pane.set_edgecolor('w')\n",
    "ax.zaxis.pane.set_edgecolor('w')\n",
    "ax.w_xaxis.set_pane_color((1.0, 1.0, 1.0, 1.0))\n",
    "plt.gca().patch.set_facecolor('white')\n",
    "# Bonus: To get rid of the grid as well:\n",
    "\n",
    "# fig.colorbar(img)\n",
    "frame1 = plt.gca()\n",
    "frame1.axes.get_xaxis().set_ticks([])\n",
    "frame1.axes.get_yaxis().set_ticks([])\n",
    "frame1.axes.get_zaxis().set_ticks([])\n",
    "ax.set_ylim(ax.get_ylim()[::-1])\n",
    "ax.set_xlim(ax.get_xlim()[::-1])\n",
    "plt.savefig(\"cluster_3_in_out.png\", bbox_inches='tight')\n",
    "\n",
    "plt.show()"
   ]
  },
  {
   "cell_type": "code",
   "execution_count": null,
   "metadata": {},
   "outputs": [],
   "source": [
    "%matplotlib notebook\n",
    "fig = plt.figure()\n",
    "ax = fig.add_subplot(111, projection='3d')\n",
    "\n",
    "array = four_array\n",
    "img = ax.scatter3D(array[:,0],array[:,1],array[:,2], c = '#87CEFA' , alpha= 0.2 ,s = 0.0007)\n",
    "\n",
    "#fig.colorbar(img)\n",
    "\n",
    "# First remove fill\n",
    "ax.xaxis.pane.fill = False\n",
    "ax.yaxis.pane.fill = False\n",
    "ax.zaxis.pane.fill = False\n",
    "\n",
    "# Now set color to white (or whatever is \"invisible\")\n",
    "ax.grid(False)\n",
    "ax.xaxis.pane.set_edgecolor('w')\n",
    "ax.yaxis.pane.set_edgecolor('w')\n",
    "ax.zaxis.pane.set_edgecolor('w')\n",
    "ax.w_xaxis.set_pane_color((1.0, 1.0, 1.0, 1.0))\n",
    "plt.gca().patch.set_facecolor('white')\n",
    "# Bonus: To get rid of the grid as well:\n",
    "\n",
    "# fig.colorbar(img)\n",
    "frame1 = plt.gca()\n",
    "frame1.axes.get_xaxis().set_ticks([])\n",
    "frame1.axes.get_yaxis().set_ticks([])\n",
    "frame1.axes.get_zaxis().set_ticks([])\n",
    "ax.set_ylim(ax.get_ylim()[::-1])\n",
    "ax.set_xlim(ax.get_xlim()[::-1])\n",
    "\n",
    "plt.savefig(\"cluster_4_in_out.png\", bbox_inches='tight')\n",
    "\n",
    "plt.show()"
   ]
  },
  {
   "cell_type": "code",
   "execution_count": null,
   "metadata": {},
   "outputs": [],
   "source": [
    "%matplotlib notebook\n",
    "fig = plt.figure()\n",
    "ax = fig.add_subplot(111, projection='3d')\n",
    "\n",
    "array = five_array\n",
    "img = ax.scatter3D(array[:,0],array[:,1],array[:,2], c = '#20B2AA' , alpha= 0.1 ,s = 0.02)\n",
    "\n",
    "#fig.colorbar(img)\n",
    "\n",
    "# First remove fill\n",
    "ax.xaxis.pane.fill = False\n",
    "ax.yaxis.pane.fill = False\n",
    "ax.zaxis.pane.fill = False\n",
    "\n",
    "# Now set color to white (or whatever is \"invisible\")\n",
    "ax.grid(False)\n",
    "ax.xaxis.pane.set_edgecolor('w')\n",
    "ax.yaxis.pane.set_edgecolor('w')\n",
    "ax.zaxis.pane.set_edgecolor('w')\n",
    "ax.w_xaxis.set_pane_color((1.0, 1.0, 1.0, 1.0))\n",
    "plt.gca().patch.set_facecolor('white')\n",
    "# Bonus: To get rid of the grid as well:\n",
    "\n",
    "# fig.colorbar(img)\n",
    "frame1 = plt.gca()\n",
    "frame1.axes.get_xaxis().set_ticks([])\n",
    "frame1.axes.get_yaxis().set_ticks([])\n",
    "frame1.axes.get_zaxis().set_ticks([])\n",
    "ax.set_ylim(ax.get_ylim()[::-1])\n",
    "ax.set_xlim(ax.get_xlim()[::-1])\n",
    "\n",
    "plt.savefig(\"cluster_5_in_out.png\", bbox_inches='tight')\n",
    "\n",
    "plt.show()"
   ]
  },
  {
   "cell_type": "code",
   "execution_count": null,
   "metadata": {},
   "outputs": [],
   "source": [
    "x_list = px[c1]\n",
    "y_list = py[c1]\n",
    "z_list = pz[c1]"
   ]
  },
  {
   "cell_type": "code",
   "execution_count": null,
   "metadata": {},
   "outputs": [],
   "source": [
    "%matplotlib notebook\n",
    "fig = plt.figure()\n",
    "ax = fig.add_subplot(111, projection='3d')\n",
    "cluster = one_indices\n",
    "c = final_c1_one\n",
    "\n",
    "img = ax.scatter3D([x_list[i] for i in cluster],[y_list[i] for i in cluster],[z_list[i] for i in cluster],c = c ,alpha= 1, cmap='cool',s = 0.1)\n",
    "\n",
    "# First remove fill\n",
    "ax.xaxis.pane.fill = False\n",
    "ax.yaxis.pane.fill = False\n",
    "ax.zaxis.pane.fill = False\n",
    "\n",
    "# Now set color to white (or whatever is \"invisible\")\n",
    "ax.grid(False)\n",
    "ax.xaxis.pane.set_edgecolor('w')\n",
    "ax.yaxis.pane.set_edgecolor('w')\n",
    "ax.zaxis.pane.set_edgecolor('w')\n",
    "ax.w_xaxis.set_pane_color((1.0, 1.0, 1.0, 1.0))\n",
    "plt.gca().patch.set_facecolor('white')\n",
    "# Bonus: To get rid of the grid as well:\n",
    "\n",
    "# fig.colorbar(img)\n",
    "frame1 = plt.gca()\n",
    "frame1.axes.get_xaxis().set_ticks([])\n",
    "frame1.axes.get_yaxis().set_ticks([])\n",
    "frame1.axes.get_zaxis().set_ticks([])\n",
    "ax.set_ylim(ax.get_ylim()[::-1])\n",
    "ax.set_xlim(ax.get_xlim()[::-1])\n",
    "plt.savefig(\"final_c1_one_in_out.png\", bbox_inches='tight')\n",
    "plt.show()"
   ]
  },
  {
   "cell_type": "code",
   "execution_count": null,
   "metadata": {},
   "outputs": [],
   "source": [
    "os.chdir(results_store_path)"
   ]
  },
  {
   "cell_type": "markdown",
   "metadata": {},
   "source": [
    "# 3D Scatterplots of overlapping clusters"
   ]
  },
  {
   "cell_type": "code",
   "execution_count": null,
   "metadata": {},
   "outputs": [],
   "source": [
    "x_list = px[c1]\n",
    "y_list = py[c1]\n",
    "z_list = pz[c1]\n",
    "[x_list[i] for i in cluster]"
   ]
  },
  {
   "cell_type": "code",
   "execution_count": null,
   "metadata": {},
   "outputs": [],
   "source": [
    "fig = plt.figure()\n",
    "ax = Axes3D(fig) \n",
    "cluster = five_indices\n",
    "c = final_c2_five\n",
    "\n",
    "ax.scatter3D([x_list[i] for i in cluster],[y_list[i] for i in cluster],[z_list[i] for i in cluster],c,s = 0.01,color = 'red', alpha = 0.1)\n",
    "ax.scatter3D(wow_c2_5[:,0],wow_c2_5[:,1],wow_c2_5[:,2],s = 0.4,color = \"black\", alpha = 0.1)\n",
    "\n",
    "# First remove fill\n",
    "ax.xaxis.pane.fill = False\n",
    "ax.yaxis.pane.fill = False\n",
    "ax.zaxis.pane.fill = False\n",
    "\n",
    "# Now set color to white (or whatever is \"invisible\")\n",
    "ax.grid(False)\n",
    "ax.xaxis.pane.set_edgecolor('w')\n",
    "ax.yaxis.pane.set_edgecolor('w')\n",
    "ax.zaxis.pane.set_edgecolor('w')\n",
    "ax.w_xaxis.set_pane_color((1.0, 1.0, 1.0, 1.0))\n",
    "plt.gca().patch.set_facecolor('white')\n",
    "# Bonus: To get rid of the grid as well:\n",
    "\n",
    "# fig.colorbar(img)\n",
    "frame1 = plt.gca()\n",
    "frame1.axes.get_xaxis().set_ticks([])\n",
    "frame1.axes.get_yaxis().set_ticks([])\n",
    "frame1.axes.get_zaxis().set_ticks([])\n",
    "ax.set_ylim(ax.get_ylim()[::-1])\n",
    "ax.set_xlim(ax.get_xlim()[::-1])\n",
    "\n",
    "plt.savefig(\"final_c2_5_in_out.png\", bbox_inches='tight')\n",
    "plt.show()"
   ]
  },
  {
   "cell_type": "code",
   "execution_count": null,
   "metadata": {},
   "outputs": [],
   "source": [
    "def compute_cluster_pixels(px,py,pz,pv,c1,zero_array,pixel_zero_c1):\n",
    "    A = np.c_[px[c1],py[c1],pz[c1]]\n",
    "    B = zero_array\n",
    "    coord_list = [tuple(c) for c in A]\n",
    "    coord_subs = [tuple(c) for c in B]\n",
    "    pixel_dict = {}\n",
    "    for coord in coord_list:\n",
    "        pixel_dict[coord] = 0\n",
    "    for i, coord in enumerate(coord_subs):\n",
    "        pixel_dict[coord] = pixel_zero_c1[i]\n",
    "    return list(pixel_dict.values())"
   ]
  },
  {
   "cell_type": "code",
   "execution_count": null,
   "metadata": {},
   "outputs": [],
   "source": [
    "re_pixel_zero_c1 = compute_cluster_pixels(px,py,pz,pv,c1,zero_array,pixel_zero_c1)\n",
    "re_pixel_zero_c2 = compute_cluster_pixels(px,py,pz,pv,c2,zero_array,pixel_zero_c2)#\n",
    "re_pixel_zero_c3 = compute_cluster_pixels(px,py,pz,pv,c3,zero_array,pixel_zero_c3)#\n",
    "re_pixel_zero_c4 = compute_cluster_pixels(px,py,pz,pv,c4,zero_array,pixel_zero_c4)#"
   ]
  },
  {
   "cell_type": "code",
   "execution_count": null,
   "metadata": {},
   "outputs": [],
   "source": [
    "re_pixel_one_c1 = compute_cluster_pixels(px,py,pz,pv,c1,one_array,pixel_one_c1)\n",
    "re_pixel_one_c2 = compute_cluster_pixels(px,py,pz,pv,c2,one_array,pixel_one_c2)\n",
    "re_pixel_one_c3 = compute_cluster_pixels(px,py,pz,pv,c3,one_array,pixel_one_c3)\n",
    "re_pixel_one_c4 = compute_cluster_pixels(px,py,pz,pv,c4,one_array,pixel_one_c4)"
   ]
  },
  {
   "cell_type": "code",
   "execution_count": null,
   "metadata": {},
   "outputs": [],
   "source": [
    "re_pixel_two_c1 = compute_cluster_pixels(px,py,pz,pv,c1,two_array,pixel_two_c1)\n",
    "re_pixel_two_c2 = compute_cluster_pixels(px,py,pz,pv,c2,two_array,pixel_two_c2)\n",
    "re_pixel_two_c3 = compute_cluster_pixels(px,py,pz,pv,c3,two_array,pixel_two_c3)\n",
    "re_pixel_two_c4 = compute_cluster_pixels(px,py,pz,pv,c4,two_array,pixel_two_c4)"
   ]
  },
  {
   "cell_type": "code",
   "execution_count": null,
   "metadata": {},
   "outputs": [],
   "source": [
    "re_pixel_three_c1 = compute_cluster_pixels(px,py,pz,pv,c1,three_array,pixel_three_c1)\n",
    "re_pixel_three_c2 = compute_cluster_pixels(px,py,pz,pv,c2,three_array,pixel_three_c2)\n",
    "re_pixel_three_c3 = compute_cluster_pixels(px,py,pz,pv,c3,three_array,pixel_three_c3)\n",
    "re_pixel_three_c4 = compute_cluster_pixels(px,py,pz,pv,c4,three_array,pixel_three_c4)"
   ]
  },
  {
   "cell_type": "code",
   "execution_count": null,
   "metadata": {},
   "outputs": [],
   "source": [
    "re_pixel_four_c1 = compute_cluster_pixels(px,py,pz,pv,c1,four_array,pixel_four_c1)\n",
    "re_pixel_four_c2 = compute_cluster_pixels(px,py,pz,pv,c2,four_array,pixel_four_c2)\n",
    "re_pixel_four_c3 = compute_cluster_pixels(px,py,pz,pv,c3,four_array,pixel_four_c3)\n",
    "re_pixel_four_c4 = compute_cluster_pixels(px,py,pz,pv,c4,four_array,pixel_four_c4)"
   ]
  },
  {
   "cell_type": "code",
   "execution_count": null,
   "metadata": {},
   "outputs": [],
   "source": [
    "re_pixel_five_c1 = compute_cluster_pixels(px,py,pz,pv,c1,five_array,pixel_five_c1)\n",
    "re_pixel_five_c2 = compute_cluster_pixels(px,py,pz,pv,c2,five_array,pixel_five_c2)\n",
    "re_pixel_five_c3 = compute_cluster_pixels(px,py,pz,pv,c3,five_array,pixel_five_c3)\n",
    "re_pixel_five_c4 = compute_cluster_pixels(px,py,pz,pv,c4,five_array,pixel_five_c4)"
   ]
  },
  {
   "cell_type": "code",
   "execution_count": null,
   "metadata": {},
   "outputs": [],
   "source": [
    "import scipy"
   ]
  },
  {
   "cell_type": "markdown",
   "metadata": {},
   "source": [
    "# Metrics and Stats"
   ]
  },
  {
   "cell_type": "code",
   "execution_count": null,
   "metadata": {},
   "outputs": [],
   "source": [
    "scipy.stats.pearsonr(pv[c1],re_pixel_zero_c1)"
   ]
  },
  {
   "cell_type": "code",
   "execution_count": null,
   "metadata": {},
   "outputs": [],
   "source": [
    "scipy.stats.pearsonr(pv[c2],re_pixel_zero_c2)"
   ]
  },
  {
   "cell_type": "code",
   "execution_count": null,
   "metadata": {},
   "outputs": [],
   "source": [
    "scipy.stats.pearsonr(pv[c3],re_pixel_zero_c3)"
   ]
  },
  {
   "cell_type": "code",
   "execution_count": null,
   "metadata": {},
   "outputs": [],
   "source": [
    "scipy.stats.pearsonr(pv[c4],re_pixel_zero_c4)"
   ]
  },
  {
   "cell_type": "code",
   "execution_count": null,
   "metadata": {},
   "outputs": [],
   "source": [
    "scipy.stats.pearsonr(pv[c1],re_pixel_one_c1)"
   ]
  },
  {
   "cell_type": "code",
   "execution_count": null,
   "metadata": {},
   "outputs": [],
   "source": [
    "scipy.stats.pearsonr(pv[c2],re_pixel_one_c2)"
   ]
  },
  {
   "cell_type": "code",
   "execution_count": null,
   "metadata": {},
   "outputs": [],
   "source": [
    "scipy.stats.pearsonr(pv[c3],re_pixel_one_c3)"
   ]
  },
  {
   "cell_type": "code",
   "execution_count": null,
   "metadata": {},
   "outputs": [],
   "source": [
    "scipy.stats.pearsonr(pv[c4],re_pixel_one_c4)"
   ]
  },
  {
   "cell_type": "code",
   "execution_count": null,
   "metadata": {},
   "outputs": [],
   "source": [
    "scipy.stats.pearsonr(pv[c1],re_pixel_two_c1)"
   ]
  },
  {
   "cell_type": "code",
   "execution_count": null,
   "metadata": {},
   "outputs": [],
   "source": [
    "scipy.stats.pearsonr(pv[c2],re_pixel_two_c2)"
   ]
  },
  {
   "cell_type": "code",
   "execution_count": null,
   "metadata": {},
   "outputs": [],
   "source": [
    "scipy.stats.pearsonr(pv[c3],re_pixel_two_c3)"
   ]
  },
  {
   "cell_type": "code",
   "execution_count": null,
   "metadata": {},
   "outputs": [],
   "source": [
    "scipy.stats.pearsonr(pv[c4],re_pixel_two_c4)"
   ]
  },
  {
   "cell_type": "code",
   "execution_count": null,
   "metadata": {},
   "outputs": [],
   "source": [
    "scipy.stats.pearsonr(pv[c1],re_pixel_three_c1)"
   ]
  },
  {
   "cell_type": "code",
   "execution_count": null,
   "metadata": {},
   "outputs": [],
   "source": [
    "scipy.stats.pearsonr(pv[c2],re_pixel_three_c2)"
   ]
  },
  {
   "cell_type": "code",
   "execution_count": null,
   "metadata": {},
   "outputs": [],
   "source": [
    "scipy.stats.pearsonr(pv[c3],re_pixel_three_c3)"
   ]
  },
  {
   "cell_type": "code",
   "execution_count": null,
   "metadata": {},
   "outputs": [],
   "source": [
    "scipy.stats.pearsonr(pv[c4],re_pixel_three_c4)"
   ]
  },
  {
   "cell_type": "code",
   "execution_count": null,
   "metadata": {},
   "outputs": [],
   "source": [
    "scipy.stats.pearsonr(pv[c1],re_pixel_four_c1)"
   ]
  },
  {
   "cell_type": "code",
   "execution_count": null,
   "metadata": {},
   "outputs": [],
   "source": [
    "scipy.stats.pearsonr(pv[c2],re_pixel_four_c2)"
   ]
  },
  {
   "cell_type": "code",
   "execution_count": null,
   "metadata": {},
   "outputs": [],
   "source": [
    "scipy.stats.pearsonr(pv[c3],re_pixel_four_c3)"
   ]
  },
  {
   "cell_type": "code",
   "execution_count": null,
   "metadata": {},
   "outputs": [],
   "source": [
    "scipy.stats.pearsonr(pv[c4],re_pixel_four_c4)"
   ]
  },
  {
   "cell_type": "code",
   "execution_count": null,
   "metadata": {},
   "outputs": [],
   "source": [
    "scipy.stats.pearsonr(pv[c1],re_pixel_five_c1)"
   ]
  },
  {
   "cell_type": "code",
   "execution_count": null,
   "metadata": {},
   "outputs": [],
   "source": [
    "scipy.stats.pearsonr(pv[c2],re_pixel_five_c2)"
   ]
  },
  {
   "cell_type": "code",
   "execution_count": null,
   "metadata": {},
   "outputs": [],
   "source": [
    "scipy.stats.pearsonr(pv[c3],re_pixel_five_c3)"
   ]
  },
  {
   "cell_type": "code",
   "execution_count": null,
   "metadata": {},
   "outputs": [],
   "source": [
    "scipy.stats.pearsonr(pv[c4],re_pixel_five_c4)"
   ]
  },
  {
   "cell_type": "code",
   "execution_count": null,
   "metadata": {},
   "outputs": [],
   "source": [
    "np.mean(pixel_zero_c1),np.std(pixel_zero_c1)\n",
    "\n",
    "np.mean(pixel_zero_c2),np.std(pixel_zero_c2)\n",
    "\n",
    "np.mean(pixel_zero_c3),np.std(pixel_zero_c3)\n",
    "\n",
    "np.mean(pixel_zero_c4),np.std(pixel_zero_c4)\n",
    "\n",
    "np.mean(pixel_one_c1),np.std(pixel_one_c1)\n",
    "\n",
    "np.mean(pixel_one_c2),np.std(pixel_one_c2)\n",
    "\n",
    "np.mean(pixel_one_c3),np.std(pixel_one_c3)\n",
    "\n",
    "np.mean(pixel_one_c4),np.std(pixel_one_c4)\n",
    "\n",
    "np.mean(pixel_two_c1),np.std(pixel_two_c1)\n",
    "\n",
    "np.mean(pixel_two_c2),np.std(pixel_two_c2)\n",
    "\n",
    "np.mean(pixel_two_c3),np.std(pixel_two_c3)\n",
    "\n",
    "np.mean(pixel_two_c4),np.std(pixel_two_c4)\n",
    "\n",
    "np.mean(pixel_three_c1),np.std(pixel_three_c1)\n",
    "\n",
    "np.mean(pixel_three_c2),np.std(pixel_three_c2)\n",
    "\n",
    "np.mean(pixel_three_c3),np.std(pixel_three_c3)\n",
    "\n",
    "np.mean(pixel_three_c4),np.std(pixel_three_c4)\n",
    "\n",
    "np.mean(pixel_four_c1),np.std(pixel_four_c1)\n",
    "\n",
    "np.mean(pixel_four_c2),np.std(pixel_four_c2)\n",
    "\n",
    "np.mean(pixel_four_c3),np.std(pixel_four_c3)\n",
    "\n",
    "np.mean(pixel_four_c4),np.std(pixel_four_c4)\n",
    "\n",
    "np.mean(pixel_five_c1),np.std(pixel_five_c1)\n",
    "\n",
    "np.mean(pixel_five_c2),np.std(pixel_five_c2)\n",
    "\n",
    "np.mean(pixel_five_c3),np.std(pixel_five_c3)\n",
    "\n",
    "np.mean(pixel_five_c4),np.std(pixel_five_c4)\n",
    "\n",
    "np.mean(pv[c1]),np.std(pv[c1])\n",
    "\n",
    "np.mean(pv[c2]),np.std(pv[c2])\n",
    "\n",
    "np.mean(pv[c3]),np.std(pv[c3])\n",
    "\n",
    "np.mean(pv[c4]),np.std(pv[c4])"
   ]
  },
  {
   "cell_type": "code",
   "execution_count": null,
   "metadata": {},
   "outputs": [],
   "source": [
    "np.mean(re_pixel_zero_c1),np.std(re_pixel_zero_c1)"
   ]
  },
  {
   "cell_type": "code",
   "execution_count": null,
   "metadata": {},
   "outputs": [],
   "source": [
    "np.mean(re_pixel_zero_c2),np.std(re_pixel_zero_c2)"
   ]
  },
  {
   "cell_type": "code",
   "execution_count": null,
   "metadata": {},
   "outputs": [],
   "source": [
    "np.mean(re_pixel_zero_c3),np.std(re_pixel_zero_c3)"
   ]
  },
  {
   "cell_type": "code",
   "execution_count": null,
   "metadata": {},
   "outputs": [],
   "source": [
    "np.mean(re_pixel_zero_c4),np.std(re_pixel_zero_c4)"
   ]
  },
  {
   "cell_type": "code",
   "execution_count": null,
   "metadata": {},
   "outputs": [],
   "source": [
    "np.mean(re_pixel_one_c1),np.std(re_pixel_one_c1)"
   ]
  },
  {
   "cell_type": "code",
   "execution_count": null,
   "metadata": {},
   "outputs": [],
   "source": [
    "np.mean(re_pixel_one_c2),np.std(re_pixel_one_c2)"
   ]
  },
  {
   "cell_type": "code",
   "execution_count": null,
   "metadata": {},
   "outputs": [],
   "source": [
    "np.mean(re_pixel_one_c3),np.std(re_pixel_one_c3)"
   ]
  },
  {
   "cell_type": "code",
   "execution_count": null,
   "metadata": {},
   "outputs": [],
   "source": [
    "np.mean(re_pixel_one_c4),np.std(re_pixel_one_c4)"
   ]
  },
  {
   "cell_type": "code",
   "execution_count": null,
   "metadata": {},
   "outputs": [],
   "source": [
    "np.mean(re_pixel_two_c1),np.std(re_pixel_two_c1)"
   ]
  },
  {
   "cell_type": "code",
   "execution_count": null,
   "metadata": {},
   "outputs": [],
   "source": [
    "np.mean(re_pixel_two_c2),np.std(re_pixel_two_c2)"
   ]
  },
  {
   "cell_type": "code",
   "execution_count": null,
   "metadata": {},
   "outputs": [],
   "source": [
    "np.mean(re_pixel_two_c3),np.std(re_pixel_two_c3)"
   ]
  },
  {
   "cell_type": "code",
   "execution_count": null,
   "metadata": {},
   "outputs": [],
   "source": [
    "np.mean(re_pixel_two_c4),np.std(re_pixel_two_c4)\n"
   ]
  },
  {
   "cell_type": "code",
   "execution_count": null,
   "metadata": {},
   "outputs": [],
   "source": [
    "np.mean(re_pixel_three_c1),np.std(re_pixel_three_c1)"
   ]
  },
  {
   "cell_type": "code",
   "execution_count": null,
   "metadata": {},
   "outputs": [],
   "source": [
    "np.mean(re_pixel_three_c2),np.std(re_pixel_three_c2)"
   ]
  },
  {
   "cell_type": "code",
   "execution_count": null,
   "metadata": {},
   "outputs": [],
   "source": [
    "np.mean(re_pixel_three_c3),np.std(re_pixel_three_c3)"
   ]
  },
  {
   "cell_type": "code",
   "execution_count": null,
   "metadata": {},
   "outputs": [],
   "source": [
    "np.mean(re_pixel_three_c4),np.std(re_pixel_three_c4)"
   ]
  },
  {
   "cell_type": "code",
   "execution_count": null,
   "metadata": {},
   "outputs": [],
   "source": [
    "np.mean(re_pixel_four_c1),np.std(re_pixel_four_c1)"
   ]
  },
  {
   "cell_type": "code",
   "execution_count": null,
   "metadata": {},
   "outputs": [],
   "source": [
    "np.mean(re_pixel_four_c2),np.std(re_pixel_four_c2)"
   ]
  },
  {
   "cell_type": "code",
   "execution_count": null,
   "metadata": {},
   "outputs": [],
   "source": [
    "np.mean(re_pixel_four_c3),np.std(re_pixel_four_c3)"
   ]
  },
  {
   "cell_type": "code",
   "execution_count": null,
   "metadata": {},
   "outputs": [],
   "source": [
    "np.mean(re_pixel_four_c4),np.std(re_pixel_four_c4)"
   ]
  },
  {
   "cell_type": "code",
   "execution_count": null,
   "metadata": {},
   "outputs": [],
   "source": [
    "np.mean(re_pixel_five_c1),np.std(re_pixel_five_c1)"
   ]
  },
  {
   "cell_type": "code",
   "execution_count": null,
   "metadata": {},
   "outputs": [],
   "source": [
    "np.mean(re_pixel_five_c2),np.std(re_pixel_five_c2)"
   ]
  },
  {
   "cell_type": "code",
   "execution_count": null,
   "metadata": {},
   "outputs": [],
   "source": [
    "np.mean(re_pixel_five_c3),np.std(re_pixel_five_c3)"
   ]
  },
  {
   "cell_type": "code",
   "execution_count": null,
   "metadata": {},
   "outputs": [],
   "source": [
    "np.mean(re_pixel_five_c4),np.std(re_pixel_five_c4)"
   ]
  },
  {
   "cell_type": "code",
   "execution_count": null,
   "metadata": {},
   "outputs": [],
   "source": [
    "scipy.spatial.distance.correlation(pv[c1],re_pixel_five_c1)"
   ]
  },
  {
   "cell_type": "code",
   "execution_count": null,
   "metadata": {},
   "outputs": [],
   "source": [
    "from sklearn.metrics import f1_score"
   ]
  },
  {
   "cell_type": "code",
   "execution_count": null,
   "metadata": {},
   "outputs": [],
   "source": [
    "f1_score(pv[c1], re_pixel_zero_c1, average='macro')"
   ]
  },
  {
   "cell_type": "code",
   "execution_count": null,
   "metadata": {},
   "outputs": [],
   "source": [
    "f1_score(pv[c1], re_pixel_one_c1, average='macro')"
   ]
  },
  {
   "cell_type": "code",
   "execution_count": null,
   "metadata": {},
   "outputs": [],
   "source": [
    "f1_score(pv[c1], re_pixel_two_c1, average='macro')"
   ]
  },
  {
   "cell_type": "code",
   "execution_count": null,
   "metadata": {},
   "outputs": [],
   "source": [
    "f1_score(pv[c1], re_pixel_three_c1, average='macro')"
   ]
  },
  {
   "cell_type": "code",
   "execution_count": null,
   "metadata": {},
   "outputs": [],
   "source": [
    "f1_score(pv[c1], re_pixel_four_c1, average='macro')"
   ]
  },
  {
   "cell_type": "code",
   "execution_count": null,
   "metadata": {},
   "outputs": [],
   "source": [
    "f1_score(pv[c1], re_pixel_five_c1, average='macro')"
   ]
  },
  {
   "cell_type": "code",
   "execution_count": null,
   "metadata": {},
   "outputs": [],
   "source": [
    "f1_score(pv[c2], re_pixel_zero_c2, average='macro')"
   ]
  },
  {
   "cell_type": "code",
   "execution_count": null,
   "metadata": {},
   "outputs": [],
   "source": [
    "f1_score(pv[c2], re_pixel_one_c2, average='macro')"
   ]
  },
  {
   "cell_type": "code",
   "execution_count": null,
   "metadata": {},
   "outputs": [],
   "source": [
    "f1_score(pv[c2], re_pixel_two_c2, average='macro')"
   ]
  },
  {
   "cell_type": "code",
   "execution_count": null,
   "metadata": {},
   "outputs": [],
   "source": [
    "f1_score(pv[c2], re_pixel_three_c2, average='macro')"
   ]
  },
  {
   "cell_type": "code",
   "execution_count": null,
   "metadata": {},
   "outputs": [],
   "source": [
    "f1_score(pv[c2], re_pixel_four_c2, average='macro')"
   ]
  },
  {
   "cell_type": "code",
   "execution_count": null,
   "metadata": {},
   "outputs": [],
   "source": [
    "f1_score(pv[c2], re_pixel_five_c2, average='macro')"
   ]
  },
  {
   "cell_type": "code",
   "execution_count": null,
   "metadata": {},
   "outputs": [],
   "source": [
    "f1_score(pv[c3], re_pixel_zero_c3, average='macro')"
   ]
  },
  {
   "cell_type": "code",
   "execution_count": null,
   "metadata": {},
   "outputs": [],
   "source": [
    "f1_score(pv[c3], re_pixel_one_c3, average='macro')"
   ]
  },
  {
   "cell_type": "code",
   "execution_count": null,
   "metadata": {},
   "outputs": [],
   "source": [
    "f1_score(pv[c3], re_pixel_two_c3, average='macro')"
   ]
  },
  {
   "cell_type": "code",
   "execution_count": null,
   "metadata": {},
   "outputs": [],
   "source": [
    "f1_score(pv[c3], re_pixel_three_c3, average='macro')"
   ]
  },
  {
   "cell_type": "code",
   "execution_count": null,
   "metadata": {},
   "outputs": [],
   "source": [
    "f1_score(pv[c3], re_pixel_four_c3, average='macro')"
   ]
  },
  {
   "cell_type": "code",
   "execution_count": null,
   "metadata": {},
   "outputs": [],
   "source": [
    "f1_score(pv[c3], re_pixel_five_c3, average='macro')"
   ]
  },
  {
   "cell_type": "code",
   "execution_count": null,
   "metadata": {},
   "outputs": [],
   "source": [
    "f1_score(pv[c4], re_pixel_zero_c4, average='macro')"
   ]
  },
  {
   "cell_type": "code",
   "execution_count": null,
   "metadata": {},
   "outputs": [],
   "source": [
    "f1_score(pv[c4], re_pixel_one_c4, average='macro')"
   ]
  },
  {
   "cell_type": "code",
   "execution_count": null,
   "metadata": {},
   "outputs": [],
   "source": [
    "f1_score(pv[c4], re_pixel_two_c4, average='macro')"
   ]
  },
  {
   "cell_type": "code",
   "execution_count": null,
   "metadata": {},
   "outputs": [],
   "source": [
    "f1_score(pv[c4], re_pixel_three_c4, average='macro')"
   ]
  },
  {
   "cell_type": "code",
   "execution_count": null,
   "metadata": {},
   "outputs": [],
   "source": [
    "f1_score(pv[c4], re_pixel_four_c4, average='macro')"
   ]
  },
  {
   "cell_type": "code",
   "execution_count": null,
   "metadata": {},
   "outputs": [],
   "source": [
    "f1_score(pv[c4], re_pixel_five_c4, average='macro')"
   ]
  }
 ],
 "metadata": {
  "kernelspec": {
   "display_name": "Python 3",
   "language": "python",
   "name": "python3"
  },
  "language_info": {
   "codemirror_mode": {
    "name": "ipython",
    "version": 3
   },
   "file_extension": ".py",
   "mimetype": "text/x-python",
   "name": "python",
   "nbconvert_exporter": "python",
   "pygments_lexer": "ipython3",
   "version": "3.7.4"
  }
 },
 "nbformat": 4,
 "nbformat_minor": 2
}
